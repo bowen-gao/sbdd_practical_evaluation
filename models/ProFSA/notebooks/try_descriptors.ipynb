{
 "cells": [
  {
   "cell_type": "code",
   "execution_count": null,
   "metadata": {},
   "outputs": [],
   "source": [
    "import sys\n",
    "sys.path.append(\"..\")  # noqa: E402\n",
    "\n",
    "from rdkit import Chem\n",
    "from rdkit.Chem import AllChem\n",
    "from rdkit.Chem import DataStructs\n",
    "from mordred import Calculator, descriptors\n",
    "\n",
    "from src.dataset.components.lmdb import UniMolLMDBDataset as LMDBDataset\n",
    "import pandas as pd\n",
    "import numpy as np"
   ]
  },
  {
   "cell_type": "code",
   "execution_count": null,
   "metadata": {},
   "outputs": [],
   "source": [
    "a = \"Nc1ncnc2c1ncn2[C@@H]1O[C@H](CO[P@@](=O)([O-])O[P@@](=O)([O-])O[P+](=O)(=O)[O-])[C@@H](O)[C@H]1O\"\n",
    "b = \"Nc1ncnc2c1ncn2[C@@H]1O[C@H](CO[P@@](=O)([O-])O[P@](=O)([O-])O[P+](=O)(=O)[O-])[C@@H](O)[C@H]1O\""
   ]
  },
  {
   "cell_type": "code",
   "execution_count": null,
   "metadata": {},
   "outputs": [],
   "source": []
  },
  {
   "cell_type": "code",
   "execution_count": null,
   "metadata": {},
   "outputs": [],
   "source": [
    "m = Chem.MolFromSmiles('[H]/N=C(\\\\NC(=O)Cc1ccc(OC)c(OC)c1)NCc1ccc(C)cc1')"
   ]
  },
  {
   "cell_type": "code",
   "execution_count": null,
   "metadata": {},
   "outputs": [],
   "source": [
    "inchi_key = Chem.MolToInchiKey(m)\n",
    "inchi_key"
   ]
  },
  {
   "cell_type": "code",
   "execution_count": null,
   "metadata": {},
   "outputs": [],
   "source": [
    "calc = Calculator(descriptors, ignore_3D=True)\n",
    "res = calc(m)\n",
    "print(len(res))\n",
    "print(len(res.drop_missing()))"
   ]
  },
  {
   "cell_type": "code",
   "execution_count": null,
   "metadata": {},
   "outputs": [],
   "source": []
  },
  {
   "cell_type": "code",
   "execution_count": null,
   "metadata": {},
   "outputs": [],
   "source": [
    "n_2D = len(Calculator(descriptors, ignore_3D=True).descriptors)\n",
    "n_2D"
   ]
  },
  {
   "cell_type": "code",
   "execution_count": null,
   "metadata": {},
   "outputs": [],
   "source": [
    "print(len(LMDBDataset(\"/data/prot_frag/train_ligand_pocket/train.small.lmdb\")))\n",
    "print(len(LMDBDataset(\"/data/prot_frag/train_ligand_pocket/train_1m.lmdb\")))\n",
    "print(len(LMDBDataset(\"/data/prot_frag/train_ligand_pocket/train_1m_frad.lmdb\")))\n",
    "print(len(LMDBDataset(\"/data/prot_frag/train_ligand_pocket/train_1m_ptvdn.lmdb\")))\n",
    "print(len(LMDBDataset(\"/data/prot_frag/train_ligand_pocket/valid.lmdb\")))\n",
    "print(len(LMDBDataset(\"/data/prot_frag/train_ligand_pocket/valid_frad.lmdb\")))\n",
    "print(len(LMDBDataset(\"/data/prot_frag/train_ligand_pocket/valid_ptvdn.lmdb\")))"
   ]
  },
  {
   "cell_type": "code",
   "execution_count": null,
   "metadata": {},
   "outputs": [],
   "source": [
    "print(len(LMDBDataset(\"/data/prot_frag/profsa/train.lmdb\")))\n",
    "print(len(LMDBDataset(\"/data/prot_frag/profsa/valid.lmdb\")))"
   ]
  },
  {
   "cell_type": "code",
   "execution_count": null,
   "metadata": {},
   "outputs": [],
   "source": [
    "bace = pd.read_csv(\"/data/prot_frag/moleculenet_test_smi/esol_desc.csv\")\n",
    "print(bace.shape)\n",
    "bace = bace.dropna(axis=1, how=\"any\")\n",
    "print(bace.shape)\n",
    "bace"
   ]
  },
  {
   "cell_type": "code",
   "execution_count": null,
   "metadata": {},
   "outputs": [],
   "source": [
    "res = AllChem.GetMorganFingerprintAsBitVect(m,3)\n",
    "res.ToBase64()"
   ]
  },
  {
   "cell_type": "code",
   "execution_count": null,
   "metadata": {},
   "outputs": [],
   "source": [
    "def get_morgan_fingerprint(mol, radius: int = 3, n_bits: int = 2048):\n",
    "    fp = AllChem.GetHashedMorganFingerprint(mol, radius, nBits=n_bits)\n",
    "    return np.array(fp.ToList(), dtype=np.uint8)\n",
    "res = get_morgan_fingerprint(m)\n",
    "print(res.shape)\n",
    "print(res.sum())"
   ]
  },
  {
   "cell_type": "code",
   "execution_count": null,
   "metadata": {},
   "outputs": [],
   "source": []
  }
 ],
 "metadata": {
  "kernelspec": {
   "display_name": "base",
   "language": "python",
   "name": "python3"
  },
  "language_info": {
   "codemirror_mode": {
    "name": "ipython",
    "version": 3
   },
   "file_extension": ".py",
   "mimetype": "text/x-python",
   "name": "python",
   "nbconvert_exporter": "python",
   "pygments_lexer": "ipython3",
   "version": "3.9.18"
  }
 },
 "nbformat": 4,
 "nbformat_minor": 2
}

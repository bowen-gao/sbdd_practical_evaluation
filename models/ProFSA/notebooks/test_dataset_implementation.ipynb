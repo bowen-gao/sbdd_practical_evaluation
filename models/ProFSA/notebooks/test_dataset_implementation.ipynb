{
 "cells": [
  {
   "cell_type": "code",
   "execution_count": 12,
   "metadata": {},
   "outputs": [
    {
     "name": "stdout",
     "output_type": "stream",
     "text": [
      "The autoreload extension is already loaded. To reload it, use:\n",
      "  %reload_ext autoreload\n"
     ]
    }
   ],
   "source": [
    "%load_ext autoreload\n",
    "%autoreload 2"
   ]
  },
  {
   "cell_type": "code",
   "execution_count": 13,
   "metadata": {},
   "outputs": [],
   "source": [
    "import sys\n",
    "from pathlib import Path\n",
    "\n",
    "sys.path.append(\"..\")  # noqa: E402\n",
    "\n",
    "import torch\n",
    "from torch.utils.data import DataLoader\n",
    "\n",
    "from src.dataset.profsa import (\n",
    "    ProFSADataset,\n",
    "    ProFSADataModule,\n",
    "    MolDataset,\n",
    "    NextMolDataset,\n",
    "    process_mol,\n",
    ")\n",
    "from src.dataset.components.lmdb import UniMolLMDBDataset"
   ]
  },
  {
   "cell_type": "code",
   "execution_count": 14,
   "metadata": {},
   "outputs": [],
   "source": [
    "lmdb_dir = Path(\"/data/prot_frag/train_ligand_pocket\")\n",
    "lmdb_path = lmdb_dir / \"valid.lmdb\"\n",
    "lmdb_dataset = UniMolLMDBDataset(lmdb_path)\n",
    "dataset = ProFSADataset(data_dir=lmdb_dir, data_file=\"valid.lmdb\")\n",
    "mol_dataset = MolDataset(lmdb_path=lmdb_path)\n",
    "mol2_dataset = NextMolDataset(lmdb_path=\"/data/screening/smilesdb/smilesdb.lmdb\")"
   ]
  },
  {
   "cell_type": "code",
   "execution_count": 6,
   "metadata": {},
   "outputs": [
    {
     "name": "stdout",
     "output_type": "stream",
     "text": [
      "['C' 'C' 'O' 'N' 'C' 'C' 'O' 'C' 'C' 'C' 'N' 'C' 'C' 'O' 'C' 'C' 'C' 'C'\n",
      " 'N' 'C' 'C' 'O' 'N' 'C' 'C' 'O' 'C' 'C' 'C' 'C' 'N' 'C' 'C' 'O' 'N']\n",
      "net_input.mol_src_tokens torch.Size([37]) torch.int64\n",
      "net_input.mol_src_distance torch.Size([37, 37]) torch.float32\n",
      "net_input.mol_src_edge_type torch.Size([37, 37]) torch.int64\n",
      "net_input.pocket_src_tokens torch.Size([215]) torch.int64\n",
      "net_input.pocket_src_distance torch.Size([215, 215]) torch.float32\n",
      "net_input.pocket_src_edge_type torch.Size([215, 215]) torch.int64\n",
      "net_input.pocket_src_coord torch.Size([215, 3]) torch.float32\n"
     ]
    }
   ],
   "source": [
    "res1 = dataset[0]\n",
    "for key, val in res1.items():\n",
    "    if type(val) == torch.Tensor:\n",
    "        print(key, val.shape, val.dtype)"
   ]
  },
  {
   "cell_type": "code",
   "execution_count": 5,
   "metadata": {},
   "outputs": [
    {
     "name": "stdout",
     "output_type": "stream",
     "text": [
      "C,C,O,N,C,C,O,C,C,C,N,C,C,O,C,C,C,C,N,C,C,O,N,C,C,O,C,C,C,C,N,C,C,O,N\n"
     ]
    }
   ],
   "source": [
    "atoms = lmdb_dataset[0][\"lig_atoms_real\"]\n",
    "coordinates = lmdb_dataset[0][\"lig_coord_real\"]\n",
    "print(\",\".join(atoms))"
   ]
  },
  {
   "cell_type": "code",
   "execution_count": 6,
   "metadata": {},
   "outputs": [
    {
     "name": "stdout",
     "output_type": "stream",
     "text": [
      "atoms torch.Size([37]) torch.int64\n",
      "distance torch.Size([37, 37]) torch.float32\n",
      "edge_type torch.Size([37, 37]) torch.int64\n"
     ]
    }
   ],
   "source": [
    "res2 = process_mol(atoms, coordinates)\n",
    "for key, val in res2.items():\n",
    "    if type(val) == torch.Tensor:\n",
    "        print(key, val.shape, val.dtype)"
   ]
  },
  {
   "cell_type": "code",
   "execution_count": 7,
   "metadata": {},
   "outputs": [
    {
     "name": "stdout",
     "output_type": "stream",
     "text": [
      "tensor(False)\n",
      "tensor(False)\n",
      "tensor(False)\n"
     ]
    }
   ],
   "source": [
    "print(torch.any(res1[\"net_input.mol_src_tokens\"] != res2[\"atoms\"]))\n",
    "print(torch.any(res1[\"net_input.mol_src_distance\"] != res2[\"distance\"]))\n",
    "print(torch.any(res1[\"net_input.mol_src_edge_type\"] != res2[\"edge_type\"]))"
   ]
  },
  {
   "cell_type": "code",
   "execution_count": 8,
   "metadata": {},
   "outputs": [
    {
     "name": "stdout",
     "output_type": "stream",
     "text": [
      "mol_src_tokens torch.Size([37]) torch.int64\n",
      "mol_src_distance torch.Size([37, 37]) torch.float32\n",
      "mol_src_edge_type torch.Size([37, 37]) torch.int64\n"
     ]
    }
   ],
   "source": [
    "res3 = mol_dataset[0]\n",
    "for key, val in res3.items():\n",
    "    if type(val) == torch.Tensor:\n",
    "        print(key, val.shape, val.dtype)"
   ]
  },
  {
   "cell_type": "code",
   "execution_count": 9,
   "metadata": {},
   "outputs": [
    {
     "name": "stdout",
     "output_type": "stream",
     "text": [
      "tensor(False)\n",
      "tensor(False)\n",
      "tensor(False)\n"
     ]
    }
   ],
   "source": [
    "print(torch.any(res1[\"net_input.mol_src_tokens\"] != res3[\"mol_src_tokens\"]))\n",
    "print(torch.any(res1[\"net_input.mol_src_distance\"] != res3[\"mol_src_distance\"]))\n",
    "print(torch.any(res1[\"net_input.mol_src_edge_type\"] != res3[\"mol_src_edge_type\"]))"
   ]
  },
  {
   "cell_type": "code",
   "execution_count": 18,
   "metadata": {},
   "outputs": [
    {
     "name": "stdout",
     "output_type": "stream",
     "text": [
      "mol_src_tokens torch.Size([4, 48]) torch.int64\n",
      "mol_src_distance torch.Size([4, 48, 48]) torch.float32\n",
      "mol_src_edge_type torch.Size([4, 48, 48]) torch.int64\n",
      "pocket_src_tokens torch.Size([4, 264]) torch.int64\n",
      "pocket_src_distance torch.Size([4, 264, 264]) torch.float32\n",
      "pocket_src_edge_type torch.Size([4, 264, 264]) torch.int64\n",
      "pocket_src_coord torch.Size([4, 258, 3]) torch.float32\n",
      "mol_len torch.Size([4]) torch.int64\n",
      "pocket_len torch.Size([4]) torch.int64\n",
      "\n",
      "mol_src_tokens torch.Size([4, 48]) torch.int64\n",
      "mol_src_distance torch.Size([4, 48, 48]) torch.float32\n",
      "mol_src_edge_type torch.Size([4, 48, 48]) torch.int64\n",
      "\n",
      "tensor(False)\n",
      "tensor(False)\n",
      "tensor(False)\n"
     ]
    }
   ],
   "source": [
    "batch_size = 4\n",
    "data_loader = DataLoader(\n",
    "    dataset,\n",
    "    collate_fn=dataset.dataset.collater,\n",
    "    batch_size=batch_size,\n",
    "    shuffle=False,\n",
    ")\n",
    "mol_data_loader = DataLoader(\n",
    "    mol_dataset,\n",
    "    collate_fn=mol_dataset.collater,\n",
    "    batch_size=batch_size,\n",
    "    shuffle=False,\n",
    ")\n",
    "\n",
    "batch = next(iter(data_loader))\n",
    "mol_batch = next(iter(mol_data_loader))\n",
    "\n",
    "for key, val in batch[\"net_input\"].items():\n",
    "    if type(val) == torch.Tensor:\n",
    "        print(key, val.shape, val.dtype)\n",
    "print()\n",
    "for key, val in mol_batch.items():\n",
    "    if type(val) == torch.Tensor:\n",
    "        print(key, val.shape, val.dtype)\n",
    "\n",
    "print()\n",
    "print(torch.any(batch[\"net_input\"][\"mol_src_tokens\"] != mol_batch[\"mol_src_tokens\"]))\n",
    "print(torch.any(batch[\"net_input\"][\"mol_src_distance\"] != mol_batch[\"mol_src_distance\"]))\n",
    "print(torch.any(batch[\"net_input\"][\"mol_src_edge_type\"] != mol_batch[\"mol_src_edge_type\"]))"
   ]
  },
  {
   "cell_type": "code",
   "execution_count": 11,
   "metadata": {},
   "outputs": [
    {
     "data": {
      "text/plain": [
       "dict_keys(['mol_src_tokens', 'mol_src_distance', 'mol_src_edge_type'])"
      ]
     },
     "execution_count": 11,
     "metadata": {},
     "output_type": "execute_result"
    }
   ],
   "source": [
    "data = mol2_dataset[0]\n",
    "data.keys()"
   ]
  },
  {
   "cell_type": "code",
   "execution_count": null,
   "metadata": {},
   "outputs": [],
   "source": [
    "mol2_data_loader = DataLoader(\n",
    "    mol2_dataset,\n",
    "    collate_fn=mol2_dataset.collater,\n",
    "    batch_size=batch_size,\n",
    "    shuffle=False,\n",
    ")"
   ]
  }
 ],
 "metadata": {
  "kernelspec": {
   "display_name": "base",
   "language": "python",
   "name": "python3"
  },
  "language_info": {
   "codemirror_mode": {
    "name": "ipython",
    "version": 3
   },
   "file_extension": ".py",
   "mimetype": "text/x-python",
   "name": "python",
   "nbconvert_exporter": "python",
   "pygments_lexer": "ipython3",
   "version": "3.9.18"
  }
 },
 "nbformat": 4,
 "nbformat_minor": 2
}

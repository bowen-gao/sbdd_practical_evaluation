{
 "cells": [
  {
   "cell_type": "code",
   "execution_count": null,
   "metadata": {},
   "outputs": [],
   "source": [
    "import pandas as pd\n",
    "import numpy as np\n",
    "\n",
    "from rdkit import Chem\n",
    "# from rdkit.Chem import Draw\n",
    "# from rdkit.Chem import PandasTools\n",
    "# from rdkit.Chem.Draw import IPythonConsole\n",
    "from rdkit.Chem import AllChem\n",
    "from rdkit.Chem import rdFingerprintGenerator\n",
    "from rdkit import DataStructs\n",
    "from rdkit.Chem import MACCSkeys\n",
    "from rdkit.Chem.Fingerprints import FingerprintMols\n",
    "\n",
    "# from descriptastorus.descriptors.DescriptorGenerator import MakeGenerator\n",
    "#https://github.com/bp-kelley/descriptastorus\n",
    "\n",
    "from mordred import Calculator, descriptors"
   ]
  },
  {
   "cell_type": "code",
   "execution_count": null,
   "metadata": {},
   "outputs": [],
   "source": [
    "train = pd.read_csv('../data/train_test_sets/train.csv', index_col = 'CASRN')\n",
    "test = pd.read_csv('../data/train_test_sets/test.csv', index_col = 'CASRN')"
   ]
  },
  {
   "cell_type": "code",
   "execution_count": null,
   "metadata": {},
   "outputs": [],
   "source": [
    "PandasTools.AddMoleculeColumnToFrame(train,smilesCol='SMILES')\n",
    "PandasTools.AddMoleculeColumnToFrame(test,smilesCol='SMILES')"
   ]
  },
  {
   "cell_type": "markdown",
   "metadata": {},
   "source": [
    "## ECFP6 Bits"
   ]
  },
  {
   "cell_type": "code",
   "execution_count": null,
   "metadata": {},
   "outputs": [],
   "source": [
    "# morgan fingerprint\n",
    "train_ECFP6 = [AllChem.GetMorganFingerprintAsBitVect(x,3) for x in train['ROMol']]\n",
    "test_ECFP6 = [AllChem.GetMorganFingerprintAsBitVect(x,3) for x in test['ROMol']]"
   ]
  },
  {
   "cell_type": "code",
   "execution_count": null,
   "metadata": {},
   "outputs": [],
   "source": [
    "train_ecfp6_lists = [list(l) for l in train_ECFP6]\n",
    "test_ecfp6_lists = [list(l) for l in test_ECFP6]"
   ]
  },
  {
   "cell_type": "code",
   "execution_count": null,
   "metadata": {},
   "outputs": [],
   "source": [
    "ecfp6_name = [f'Bit_{i}' for i in range(2048)]"
   ]
  },
  {
   "cell_type": "code",
   "execution_count": null,
   "metadata": {},
   "outputs": [],
   "source": [
    "train_ecfp6_df = pd.DataFrame(train_ecfp6_lists, index = train.index, columns=ecfp6_name)\n",
    "test_ecfp6_df = pd.DataFrame(test_ecfp6_lists, index = test.index, columns=ecfp6_name)"
   ]
  },
  {
   "cell_type": "code",
   "execution_count": null,
   "metadata": {},
   "outputs": [],
   "source": [
    "train_ecfp6_df.shape, test_ecfp6_df.shape"
   ]
  },
  {
   "cell_type": "code",
   "execution_count": null,
   "metadata": {},
   "outputs": [],
   "source": [
    "train_ecfp6_df.to_csv('../data/Descriptors/train_ecfp6_bits.csv')\n",
    "test_ecfp6_df.to_csv('../data/Descriptors/test_ecfp6_bits.csv')"
   ]
  },
  {
   "cell_type": "markdown",
   "metadata": {},
   "source": [
    "## ECFP6 counts"
   ]
  },
  {
   "cell_type": "code",
   "execution_count": null,
   "metadata": {},
   "outputs": [],
   "source": [
    "# morgan fingerprint counts\n",
    "train_ECFP6_counts = [AllChem.GetHashedMorganFingerprint(x,3) for x in train['ROMol']]\n",
    "test_ECFP6_counts = [AllChem.GetHashedMorganFingerprint(x,3) for x in test['ROMol']]"
   ]
  },
  {
   "cell_type": "code",
   "execution_count": null,
   "metadata": {},
   "outputs": [],
   "source": [
    "train_ecfp6_counts_lists = [list(l) for l in train_ECFP6_counts]\n",
    "test_ecfp6__counts_lists = [list(l) for l in test_ECFP6_counts]"
   ]
  },
  {
   "cell_type": "code",
   "execution_count": null,
   "metadata": {},
   "outputs": [],
   "source": [
    "train_ecfp6_counts_df = pd.DataFrame(train_ecfp6_counts_lists, index = train.index, columns=ecfp6_name)\n",
    "test_ecfp6_counts_df = pd.DataFrame(test_ecfp6__counts_lists, index = test.index, columns=ecfp6_name)"
   ]
  },
  {
   "cell_type": "code",
   "execution_count": null,
   "metadata": {},
   "outputs": [],
   "source": [
    "train_ecfp6_counts_df.shape, test_ecfp6_counts_df.shape"
   ]
  },
  {
   "cell_type": "code",
   "execution_count": null,
   "metadata": {},
   "outputs": [],
   "source": [
    "train_ecfp6_counts_df.to_csv('../data/Descriptors/train_ecfp6_counts.csv')\n",
    "test_ecfp6_counts_df.to_csv('../data/Descriptors/test_ecfp6_counts.csv')"
   ]
  },
  {
   "cell_type": "markdown",
   "metadata": {},
   "source": [
    "## MACCS keys"
   ]
  },
  {
   "cell_type": "code",
   "execution_count": null,
   "metadata": {},
   "outputs": [],
   "source": [
    "# MACCS keys\n",
    "train_maccs = [MACCSkeys.GenMACCSKeys(x) for x in train['ROMol']]\n",
    "test_maccs = [MACCSkeys.GenMACCSKeys(x) for x in test['ROMol']]"
   ]
  },
  {
   "cell_type": "code",
   "execution_count": null,
   "metadata": {},
   "outputs": [],
   "source": [
    "train_maccs_lists = [list(l) for l in train_maccs]\n",
    "test_maccs_lists = [list(l) for l in test_maccs]"
   ]
  },
  {
   "cell_type": "code",
   "execution_count": null,
   "metadata": {},
   "outputs": [],
   "source": [
    "maccs_name = [f'Bit_{i}' for i in range(167)]"
   ]
  },
  {
   "cell_type": "code",
   "execution_count": null,
   "metadata": {},
   "outputs": [],
   "source": [
    "train_maccs_df = pd.DataFrame(train_maccs_lists, index = train.index, columns=maccs_name)\n",
    "test_maccs_df = pd.DataFrame(test_maccs_lists, index = test.index, columns=maccs_name)"
   ]
  },
  {
   "cell_type": "code",
   "execution_count": null,
   "metadata": {},
   "outputs": [],
   "source": [
    "train_maccs_df.shape, test_maccs_df.shape"
   ]
  },
  {
   "cell_type": "code",
   "execution_count": null,
   "metadata": {},
   "outputs": [],
   "source": [
    "train_maccs_df.to_csv('../data/Descriptors/train_maccs.csv')\n",
    "test_maccs_df.to_csv('../data/Descriptors/test_maccs.csv')"
   ]
  },
  {
   "cell_type": "markdown",
   "metadata": {},
   "source": [
    "## RDKit"
   ]
  },
  {
   "cell_type": "code",
   "execution_count": null,
   "metadata": {},
   "outputs": [],
   "source": [
    "# RDKit\n",
    "generator = MakeGenerator((\"RDKit2D\",))\n",
    "\n",
    "train_rdkit2d = [generator.process(x)[1:] for x in train['SMILES']]\n",
    "test_rdkit2d = [generator.process(x)[1:] for x in test['SMILES']]"
   ]
  },
  {
   "cell_type": "code",
   "execution_count": null,
   "metadata": {},
   "outputs": [],
   "source": [
    "rdkit2d_name = []\n",
    "for name, numpy_type in generator.GetColumns():\n",
    "    rdkit2d_name.append(name)"
   ]
  },
  {
   "cell_type": "code",
   "execution_count": null,
   "metadata": {},
   "outputs": [],
   "source": [
    "train_rdkit2d_df = pd.DataFrame(train_rdkit2d, index = train.index, columns=rdkit2d_name[1:])\n",
    "test_rdkit2d_df = pd.DataFrame(test_rdkit2d, index = test.index, columns=rdkit2d_name[1:])"
   ]
  },
  {
   "cell_type": "code",
   "execution_count": null,
   "metadata": {},
   "outputs": [],
   "source": [
    "train_rdkit2d_df.shape, test_rdkit2d_df.shape"
   ]
  },
  {
   "cell_type": "code",
   "execution_count": null,
   "metadata": {},
   "outputs": [],
   "source": [
    "train_rdkit2d_df.to_csv('../data/Descriptors/train_rdkit2d.csv')\n",
    "test_rdkit2d_df.to_csv('../data/Descriptors/test_rdkit2d.csv')"
   ]
  },
  {
   "cell_type": "markdown",
   "metadata": {},
   "source": [
    "## mordred"
   ]
  },
  {
   "cell_type": "code",
   "execution_count": null,
   "metadata": {},
   "outputs": [],
   "source": [
    "#mordred\n",
    "mordred_calc = Calculator(descriptors, ignore_3D=True)  # can't do 3D without sdf or mol file\n",
    "\n",
    "train_mordred = mordred_calc.pandas([mol for mol in train['ROMol']])\n",
    "test_mordred = mordred_calc.pandas([mol for mol in test['ROMol']])"
   ]
  },
  {
   "cell_type": "code",
   "execution_count": null,
   "metadata": {},
   "outputs": [],
   "source": [
    "train_mordred.shape, test_mordred.shape"
   ]
  },
  {
   "cell_type": "code",
   "execution_count": null,
   "metadata": {},
   "outputs": [],
   "source": [
    "# remove non numerical features.\n",
    "train_mordred = train_mordred.select_dtypes(include=['float64', 'int64', 'float'])\n",
    "test_mordred = test_mordred[list(train_mordred)]\n",
    "train_mordred.shape, test_mordred.shape"
   ]
  },
  {
   "cell_type": "code",
   "execution_count": null,
   "metadata": {},
   "outputs": [],
   "source": [
    "test_mordred.head(1)"
   ]
  },
  {
   "cell_type": "code",
   "execution_count": null,
   "metadata": {},
   "outputs": [],
   "source": [
    "list(train_mordred) == list(test_mordred)"
   ]
  },
  {
   "cell_type": "code",
   "execution_count": null,
   "metadata": {},
   "outputs": [],
   "source": [
    "train_mordred.index = train.index\n",
    "test_mordred.index = test.index"
   ]
  },
  {
   "cell_type": "code",
   "execution_count": null,
   "metadata": {},
   "outputs": [],
   "source": [
    "train_mordred.shape, test_mordred.shape"
   ]
  },
  {
   "cell_type": "code",
   "execution_count": null,
   "metadata": {},
   "outputs": [],
   "source": [
    "train_mordred.to_csv('../data/Descriptors/train_mordred.csv')\n",
    "test_mordred.to_csv('../data/Descriptors/test_mordred.csv')"
   ]
  }
 ],
 "metadata": {
  "kernelspec": {
   "display_name": "Python 3",
   "language": "python",
   "name": "python3"
  },
  "language_info": {
   "codemirror_mode": {
    "name": "ipython",
    "version": 3
   },
   "file_extension": ".py",
   "mimetype": "text/x-python",
   "name": "python",
   "nbconvert_exporter": "python",
   "pygments_lexer": "ipython3",
   "version": "3.9.18"
  }
 },
 "nbformat": 4,
 "nbformat_minor": 2
}

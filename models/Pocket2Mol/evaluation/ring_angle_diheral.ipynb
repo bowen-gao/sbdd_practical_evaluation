{
 "cells": [
  {
   "cell_type": "code",
   "execution_count": 1,
   "metadata": {
    "ExecuteTime": {
     "end_time": "2022-01-14T09:51:12.797507Z",
     "start_time": "2022-01-14T09:51:04.541332Z"
    },
    "collapsed": true
   },
   "outputs": [],
   "source": [
    "from rdkit import Chem\n",
    "from rdkit.Chem.rdMolTransforms import GetAngleDeg\n"
   ]
  },
  {
   "cell_type": "code",
   "execution_count": 2,
   "metadata": {},
   "outputs": [],
   "source": [
    "from scipy.special import rel_entr\n",
    "def get_kld(P, Q):\n",
    "    #calculate (P || Q)\n",
    "#     Q = (Q+1e-32) / np.sum(Q+1e-32)\n",
    "    v = rel_entr(P, Q)\n",
    "#     v = v[~np.isinf(v)]\n",
    "    return sum(v)"
   ]
  },
  {
   "cell_type": "markdown",
   "metadata": {},
   "source": [
    "# Rings"
   ]
  },
  {
   "cell_type": "code",
   "execution_count": 3,
   "metadata": {
    "ExecuteTime": {
     "end_time": "2022-01-14T09:42:22.752246Z",
     "start_time": "2022-01-14T09:42:22.308112Z"
    }
   },
   "outputs": [],
   "source": [
    "def find_i_ring(mol, i):  # whether mol has ring with size i\n",
    "    ssr = Chem.GetSymmSSSR(mol)\n",
    "    for ring in ssr:\n",
    "        if len(ring) == i:\n",
    "            return True\n",
    "    return False"
   ]
  },
  {
   "attachments": {},
   "cell_type": "markdown",
   "metadata": {},
   "source": [
    "# Bond "
   ]
  },
  {
   "attachments": {},
   "cell_type": "markdown",
   "metadata": {},
   "source": [
    "bond angles"
   ]
  },
  {
   "cell_type": "code",
   "execution_count": 4,
   "metadata": {},
   "outputs": [],
   "source": [
    "def get_bond_angle(mol, bond_smi='CCC'):\n",
    "    \"\"\"\n",
    "    Find bond pairs (defined by bond_smi) in mol and return the angle of the bond pair\n",
    "    bond_smi: bond pair smiles, e.g. 'CCC'\n",
    "    \"\"\"\n",
    "    deg_list = []\n",
    "    substructure = Chem.MolFromSmiles(bond_smi)\n",
    "    bond_pairs = mol.GetSubstructMatches(substructure)\n",
    "    for pair in bond_pairs:\n",
    "        deg_list += [GetAngleDeg(mol.GetConformer(), *pair)]\n",
    "        assert mol.GetBondBetweenAtoms(pair[0], pair[1]) is not None\n",
    "        assert mol.GetBondBetweenAtoms(pair[2], pair[1]) is not None\n",
    "    return deg_list"
   ]
  },
  {
   "attachments": {},
   "cell_type": "markdown",
   "metadata": {},
   "source": [
    "dihedral angles"
   ]
  },
  {
   "cell_type": "code",
   "execution_count": 5,
   "metadata": {},
   "outputs": [],
   "source": [
    "def get_bond_symbol(bond):\n",
    "    \"\"\"\n",
    "    Return the symbol representation of a bond\n",
    "    \"\"\"\n",
    "    a0 = bond.GetBeginAtom().GetSymbol()\n",
    "    a1 = bond.GetEndAtom().GetSymbol()\n",
    "    b = str(int(bond.GetBondType())) # single: 1, double: 2, triple: 3, aromatic: 12\n",
    "    return ''.join([a0, b, a1])"
   ]
  },
  {
   "cell_type": "code",
   "execution_count": 6,
   "metadata": {},
   "outputs": [],
   "source": [
    "def get_triple_bonds(mol):\n",
    "    \"\"\"\n",
    "    Get all the bond triplets in a molecule\n",
    "    \"\"\"\n",
    "    valid_triple_bonds = []\n",
    "    for idx_bond, bond in enumerate(mol.GetBonds()):\n",
    "        idx_begin_atom = bond.GetBeginAtomIdx()\n",
    "        idx_end_atom = bond.GetEndAtomIdx()\n",
    "        begin_atom = mol.GetAtomWithIdx(idx_begin_atom)\n",
    "        end_atom = mol.GetAtomWithIdx(idx_end_atom)\n",
    "        begin_bonds = begin_atom.GetBonds()\n",
    "        valid_left_bonds = []\n",
    "        for begin_bond in begin_bonds:\n",
    "            if begin_bond.GetIdx() == idx_bond:\n",
    "                continue\n",
    "            else:\n",
    "                valid_left_bonds.append(begin_bond)\n",
    "        if len(valid_left_bonds) == 0:\n",
    "            continue\n",
    "\n",
    "        end_bonds = end_atom.GetBonds()\n",
    "        for end_bond in end_bonds:\n",
    "            if end_bond.GetIdx() == idx_bond:\n",
    "                continue\n",
    "            else:\n",
    "                for left_bond in valid_left_bonds:\n",
    "                    valid_triple_bonds.append([left_bond, bond, end_bond])\n",
    "    return valid_triple_bonds\n"
   ]
  },
  {
   "cell_type": "code",
   "execution_count": 7,
   "metadata": {},
   "outputs": [],
   "source": [
    "def get_dihedral_angle(mol, bonds_ref_sym):\n",
    "    \"\"\"\n",
    "    find bond triplets (defined by bonds_ref_sym) in mol and return the dihedral angle of the bond triplet\n",
    "    bonds_ref_sym: a symbol string of bond triplet, e.g. 'C1C-C1C-C1C'\n",
    "    \"\"\"\n",
    "    # bonds_ref_sym = '-'.join(get_bond_symbol(bonds_ref))\n",
    "    bonds_list = get_triple_bonds(mol)\n",
    "    angles_list = []\n",
    "    for bonds  in bonds_list:\n",
    "        sym = '-'.join([get_bond_symbol(b) for b in bonds])\n",
    "        sym1 = '-'.join([get_bond_symbol(b) for b in bonds][::-1])\n",
    "        atoms = []\n",
    "        if (sym == bonds_ref_sym) or (sym1 == bonds_ref_sym): \n",
    "            if (sym1 == bonds_ref_sym):\n",
    "                bonds = bonds[::-1]\n",
    "            bond0 = bonds[0]\n",
    "            atom0 = bond0.GetBeginAtomIdx()\n",
    "            atom1 = bond0.GetEndAtomIdx()\n",
    "\n",
    "            bond1 = bonds[1]\n",
    "            atom1_0 = bond1.GetBeginAtomIdx()\n",
    "            atom1_1 = bond1.GetEndAtomIdx()\n",
    "            if atom0 == atom1_0:\n",
    "                i, j, k =atom1, atom0, atom1_1\n",
    "            elif atom0 == atom1_1:\n",
    "                i, j, k =atom1, atom0, atom1_0\n",
    "            elif atom1 == atom1_0:\n",
    "                i, j, k =atom0, atom1, atom1_1\n",
    "            elif atom1 == atom1_1:\n",
    "                i, j, k =atom0, atom1, atom1_0\n",
    "                \n",
    "            bond2 = bonds[2]\n",
    "            atom2_0 = bond2.GetBeginAtomIdx()\n",
    "            atom2_1 = bond2.GetEndAtomIdx()\n",
    "            if atom2_0 == k:\n",
    "                l = atom2_1\n",
    "            elif atom2_1 == k:\n",
    "                l = atom2_0\n",
    "            # print(i,j,k,l)\n",
    "            angle = Chem.rdMolTransforms.GetDihedralDeg(mol.GetConformer(), i,j,k,l)\n",
    "            angles_list.append(angle)\n",
    "    return angles_list"
   ]
  },
  {
   "cell_type": "code",
   "execution_count": null,
   "metadata": {},
   "outputs": [],
   "source": []
  },
  {
   "attachments": {},
   "cell_type": "markdown",
   "metadata": {},
   "source": [
    "test"
   ]
  },
  {
   "cell_type": "code",
   "execution_count": 24,
   "metadata": {},
   "outputs": [
    {
     "data": {
      "image/png": "[encoded data removed]",
      "text/plain": [
       "<rdkit.Chem.rdchem.Mol at 0x7f68866d73a0>"
      ]
     },
     "execution_count": 24,
     "metadata": {},
     "output_type": "execute_result"
    }
   ],
   "source": [
    "from rdkit.Chem.Draw import IPythonConsole\n",
    "from rdkit import Chem\n",
    "from rdkit.Chem import AllChem\n",
    "mol = Chem.MolFromSmiles('CC(=O)N(CC(=O)CCC(=O)N(C(=S)Cc1cccc(C(C)(C)C)c1)c1ccc(C)cc1)c1cccc(C)c1')\n",
    "mol"
   ]
  },
  {
   "cell_type": "code",
   "execution_count": 25,
   "metadata": {},
   "outputs": [],
   "source": [
    "mol = Chem.AddHs(mol)\n",
    "rmsd_list = []\n",
    "# predict 3d\n",
    "confId = AllChem.EmbedMultipleConfs(mol, 1)\n",
    "AllChem.UFFOptimizeMolecule(mol, confId=confId[0])\n",
    "mol = Chem.RemoveHs(mol)"
   ]
  },
  {
   "cell_type": "code",
   "execution_count": 26,
   "metadata": {},
   "outputs": [
    {
     "data": {
      "image/png": "[encoded data removed]",
      "text/plain": [
       "<rdkit.Chem.rdchem.Mol at 0x7f68866bfd00>"
      ]
     },
     "execution_count": 26,
     "metadata": {},
     "output_type": "execute_result"
    }
   ],
   "source": [
    "mol"
   ]
  },
  {
   "cell_type": "code",
   "execution_count": 27,
   "metadata": {},
   "outputs": [
    {
     "data": {
      "text/plain": [
       "[120.98540070985567,\n",
       " 110.5184263859912,\n",
       " 111.72513887324865,\n",
       " 110.55725283913641,\n",
       " 109.57012537551836,\n",
       " 113.14328990853437,\n",
       " 109.38317176053022,\n",
       " 107.5405794161931,\n",
       " 109.35669241430803,\n",
       " 107.76930942463855]"
      ]
     },
     "execution_count": 27,
     "metadata": {},
     "output_type": "execute_result"
    }
   ],
   "source": [
    "get_bond_angle(mol, 'CCC')"
   ]
  },
  {
   "cell_type": "code",
   "execution_count": 28,
   "metadata": {},
   "outputs": [
    {
     "data": {
      "text/plain": [
       "[0.045132793993945625,\n",
       " 0.31727147032581254,\n",
       " 0.17285242518409213,\n",
       " -0.9927281223596802,\n",
       " 1.3583139490243619,\n",
       " 0.5494597503789072,\n",
       " -0.4217806618574352,\n",
       " 0.3271925046830529,\n",
       " -0.37157612946052165,\n",
       " 0.5110825390480466,\n",
       " -0.8870035185326582,\n",
       " 0.5804163569490655,\n",
       " 0.5822523917928671,\n",
       " -1.4202189137166252,\n",
       " 1.1101170070611157,\n",
       " -0.9051568013128003,\n",
       " -0.594044431356375,\n",
       " 0.03653065124493322]"
      ]
     },
     "execution_count": 28,
     "metadata": {},
     "output_type": "execute_result"
    }
   ],
   "source": [
    "get_dihedral_angle(mol, 'C12C-C12C-C12C')"
   ]
  },
  {
   "cell_type": "code",
   "execution_count": 29,
   "metadata": {},
   "outputs": [
    {
     "data": {
      "text/plain": [
       "[-104.17068974361275, -179.2089375789735]"
      ]
     },
     "execution_count": 29,
     "metadata": {},
     "output_type": "execute_result"
    }
   ],
   "source": [
    "get_dihedral_angle(mol, 'C1C-C1C-C1C')"
   ]
  },
  {
   "cell_type": "code",
   "execution_count": null,
   "metadata": {},
   "outputs": [],
   "source": []
  }
 ],
 "metadata": {
  "kernelspec": {
   "display_name": "mol",
   "language": "python",
   "name": "python3"
  },
  "language_info": {
   "codemirror_mode": {
    "name": "ipython",
    "version": 3
   },
   "file_extension": ".py",
   "mimetype": "text/x-python",
   "name": "python",
   "nbconvert_exporter": "python",
   "pygments_lexer": "ipython3",
   "version": "3.8.13 (default, Mar 28 2022, 11:38:47) \n[GCC 7.5.0]"
  },
  "toc": {
   "base_numbering": 1,
   "nav_menu": {},
   "number_sections": true,
   "sideBar": true,
   "skip_h1_title": false,
   "title_cell": "Table of Contents",
   "title_sidebar": "Contents",
   "toc_cell": false,
   "toc_position": {
    "height": "calc(100% - 180px)",
    "left": "10px",
    "top": "150px",
    "width": "279.273px"
   },
   "toc_section_display": true,
   "toc_window_display": true
  },
  "vscode": {
   "interpreter": {
    "hash": "e209ce706cf8f4a026d191e08e1138e53b70f0a1478ddee41c2965f95a7dfc7b"
   }
  }
 },
 "nbformat": 4,
 "nbformat_minor": 2
}

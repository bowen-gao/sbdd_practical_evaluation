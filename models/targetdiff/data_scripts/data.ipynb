{
 "cells": [
  {
   "cell_type": "code",
   "execution_count": 28,
   "metadata": {},
   "outputs": [],
   "source": [
    "import pickle\n",
    "\n",
    "import argparse\n",
    "import gzip\n",
    "import multiprocessing as mp\n",
    "import os\n",
    "import pickle\n",
    "import random\n",
    "\n",
    "import lmdb\n",
    "import numpy as np\n",
    "import pandas as pd\n",
    "import rdkit\n",
    "import rdkit.Chem.AllChem as AllChem\n",
    "import torch\n",
    "from tqdm import tqdm\n",
    "from biopandas.mol2 import PandasMol2\n",
    "from biopandas.pdb import PandasPdb\n",
    "from rdkit import Chem, RDLogger\n",
    "from rdkit.Chem.MolStandardize import rdMolStandardize\n",
    "\n",
    "\n",
    "def write_lmdb(data, lmdb_path):\n",
    "    #resume\n",
    "\n",
    "    env = lmdb.open(lmdb_path, subdir=False, readonly=False, lock=False, readahead=False, meminit=False, map_size=1099511627776)\n",
    "    num = 0\n",
    "    with env.begin(write=True) as txn:\n",
    "        for d in tqdm(data):\n",
    "            txn.put(str(num).encode('ascii'), pickle.dumps(d))\n",
    "            num += 1\n",
    "\n",
    "def read_lmdb(lmdb_path):\n",
    "    env = lmdb.open(\n",
    "        lmdb_path,\n",
    "        subdir=False,\n",
    "        readonly=True,\n",
    "        lock=False,\n",
    "        readahead=False,\n",
    "        meminit=False,\n",
    "        max_readers=256,\n",
    "    )\n",
    "    txn = env.begin()\n",
    "    keys = list(txn.cursor().iternext(values=False))\n",
    "    out_list = []\n",
    "    i=0\n",
    "    count=0\n",
    "    for idx in tqdm(keys):\n",
    "        datapoint_pickled = txn.get(idx)\n",
    "        data = pickle.loads(datapoint_pickled)\n",
    "        out_list.append(data)\n",
    "        \n",
    "    env.close()\n",
    "    return out_list, keys"
   ]
  },
  {
   "cell_type": "code",
   "execution_count": 10,
   "metadata": {},
   "outputs": [
    {
     "name": "stdout",
     "output_type": "stream",
     "text": [
      "['H', 'C', 'O', 'N', 'H', 'C', 'O', 'N']\n"
     ]
    }
   ],
   "source": [
    "from rdkit.Chem import GetPeriodicTable\n",
    "\n",
    "# Create an instance of the periodic table\n",
    "pt = GetPeriodicTable()\n",
    "\n",
    "def get_element_name(element_list):\n",
    "    element_name = [pt.GetElementSymbol(i) for i in element_list]\n",
    "    return element_name\n",
    "\n",
    "print(get_element_name([1, 6, 8, 7, 1, 6, 8, 7]))"
   ]
  },
  {
   "cell_type": "code",
   "execution_count": null,
   "metadata": {},
   "outputs": [],
   "source": [
    "path = \"/nfs/data/targetdiff_data/crossdocked_v1.1_rmsd1.0_pocket10_processed_final-001.lmdb\"\n",
    "data, keys = read_lmdb(path)\n",
    "import pickle\n",
    "split_path = \"/nfs/data/targetdiff_data/crossdocked_pocket10_pose_split.pt\"\n",
    "split = torch.load(split_path)\n",
    "print(max(split[\"train\"]))\n",
    "\n",
    "train_data = []\n",
    "test_data = []\n",
    "\n",
    "for idx in split[\"train\"]:\n",
    "    train_data.append(data[idx])\n",
    "for idx in split[\"test\"]:\n",
    "    test_data.append(data[idx])\n",
    "\n",
    "print(len(train_data))\n",
    "print(len(test_data))\n",
    "\n",
    "write_lmdb(train_data, \"/nfs/data/targetdiff_data/train.lmdb\")\n",
    "write_lmdb(test_data, \"/nfs/data/targetdiff_data/test.lmdb\")\n",
    "    "
   ]
  },
  {
   "cell_type": "code",
   "execution_count": 34,
   "metadata": {},
   "outputs": [
    {
     "name": "stderr",
     "output_type": "stream",
     "text": [
      "  0%|          | 0/99990 [00:00<?, ?it/s]"
     ]
    },
    {
     "name": "stdout",
     "output_type": "stream",
     "text": [
      "422\n",
      "torch.Size([422, 3])\n",
      "26\n",
      "torch.Size([26, 3])\n",
      "COc1cc(C(C)(C)C#Cc2c(C)nc(N)nc2N)cc(OC)c1OC\n",
      "DYR_STAAU_2_158_0/4xe6_X_rec_3fqc_55v_lig_tt_docked_4_pocket10.pdb\n",
      "DYR_STAAU_2_158_0/4xe6_X_rec_3fqc_55v_lig_tt_docked_4.sdf\n"
     ]
    },
    {
     "name": "stderr",
     "output_type": "stream",
     "text": [
      "\n"
     ]
    }
   ],
   "source": [
    "from rdkit.Chem import GetPeriodicTable\n",
    "pt = GetPeriodicTable()\n",
    "train_path = \"/nfs/data/targetdiff_data/train.lmdb\"\n",
    "\n",
    "train_data, keys = read_lmdb(train_path)\n",
    "\n",
    "new_train = []\n",
    "\n",
    "for data in train_data:\n",
    "    pocket_atoms = data[\"protein_atom_name\"]\n",
    "    pocket_coordinates = data[\"protein_pos\"]\n",
    "    ligand_atom_atomics = data[\"ligand_element\"].detach().cpu().numpy()\n",
    "    ligand_atom_atomics = [int(i) for i in ligand_atom_atomics]\n",
    "    ligand_atoms = [pt.GetElementSymbol(i) for i in ligand_atom_atomics]\n",
    "    ligand_coordinates = data[\"ligand_pos\"]\n",
    "    smiles = data[\"ligand_smiles\"]\n",
    "    protein_name = data[\"protein_filename\"]\n",
    "    ligand_name = data[\"ligand_filename\"]\n",
    "\n",
    "    d = {\n",
    "        \"pocket_atoms\": pocket_atoms,\n",
    "        \"pocket_coordinates\": pocket_coordinates,\n",
    "        \"ligand_atoms\": ligand_atoms,\n",
    "        \"ligand_coordinates\": ligand_coordinates,\n",
    "        \"smiles\": smiles,\n",
    "        \"protein_name\": protein_name,\n",
    "        \"ligand_name\": ligand_name,\n",
    "    }\n",
    "    new_train.append(d)\n",
    "\n",
    "\n",
    "write_lmdb(new_train, \"/nfs/data/targetdiff_data/train_processed.lmdb\")\n",
    "\n",
    "test_path = \"/nfs/data/targetdiff_data/test.lmdb\"\n",
    "\n",
    "test_data, keys = read_lmdb(test_path)\n",
    "\n",
    "new_test = []\n",
    "\n",
    "for data in test_data:\n",
    "    pocket_atoms = data[\"protein_atom_name\"]\n",
    "    pocket_coordinates = data[\"protein_pos\"]\n",
    "    ligand_atom_atomics = data[\"ligand_element\"].detach().cpu().numpy()\n",
    "    ligand_atom_atomics = [int(i) for i in ligand_atom_atomics]\n",
    "    ligand_atoms = [pt.GetElementSymbol(i) for i in ligand_atom_atomics]\n",
    "    ligand_coordinates = data[\"ligand_pos\"]\n",
    "    smiles = data[\"ligand_smiles\"]\n",
    "    protein_name = data[\"protein_filename\"]\n",
    "    ligand_name = data[\"ligand_filename\"]\n",
    "\n",
    "    d = {\n",
    "        \"pocket_atoms\": pocket_atoms,\n",
    "        \"pocket_coordinates\": pocket_coordinates,\n",
    "        \"ligand_atoms\": ligand_atoms,\n",
    "        \"ligand_coordinates\": ligand_coordinates,\n",
    "        \"smiles\": smiles,\n",
    "        \"protein_name\": protein_name,\n",
    "        \"ligand_name\": ligand_name,\n",
    "    }\n",
    "    new_test.append(d)\n",
    "\n",
    "write_lmdb(new_test, \"/nfs/data/targetdiff_data/test_processed.lmdb\")\n"
   ]
  }
 ],
 "metadata": {
  "kernelspec": {
   "display_name": "Python 3",
   "language": "python",
   "name": "python3"
  },
  "language_info": {
   "codemirror_mode": {
    "name": "ipython",
    "version": 3
   },
   "file_extension": ".py",
   "mimetype": "text/x-python",
   "name": "python",
   "nbconvert_exporter": "python",
   "pygments_lexer": "ipython3",
   "version": "3.8.18"
  }
 },
 "nbformat": 4,
 "nbformat_minor": 2
}
